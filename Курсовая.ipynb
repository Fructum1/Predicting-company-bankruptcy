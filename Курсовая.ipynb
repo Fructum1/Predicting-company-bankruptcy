{
 "cells": [
  {
   "cell_type": "code",
   "execution_count": 3,
   "metadata": {},
   "outputs": [
    {
     "name": "stdout",
     "output_type": "stream",
     "text": [
      "Using matplotlib backend: Qt5Agg\n"
     ]
    }
   ],
   "source": [
    "import numpy as np\n",
    "import pandas as pd\n",
    "import sklearn\n",
    "from sklearn import ensemble, metrics\n",
    "from sklearn.model_selection import train_test_split\n",
    "import matplotlib.pyplot as plt\n",
    "plt.style.use('ggplot')\n",
    "%matplotlib \n",
    "from pandas.plotting import scatter_matrix\n",
    "from sklearn.preprocessing import StandardScaler\n",
    "from imblearn.over_sampling import SMOTE\n",
    "from sklearn.metrics import confusion_matrix\n",
    "from scipy.stats import uniform as sp_randFloat\n",
    "from scipy.stats import randint as sp_randInt\n",
    "from sklearn.model_selection import RandomizedSearchCV\n",
    "from sklearn.metrics import classification_report"
   ]
  },
  {
   "cell_type": "code",
   "execution_count": 4,
   "metadata": {},
   "outputs": [],
   "source": [
    "df = pd.read_csv(\"train.csv\", decimal = '.') #Ввод данных\n",
    "df = df.drop(columns='ID_FIRM') #Удаление столбца с ID\n",
    "test = df['BANKR'] #Данные для проверки"
   ]
  },
  {
   "cell_type": "code",
   "execution_count": 4,
   "metadata": {},
   "outputs": [
    {
     "name": "stdout",
     "output_type": "stream",
     "text": [
      "ID_FIRM - 0%\n",
      "P1110_B - 0%\n",
      "P1110_E - 0%\n",
      "P1120_B - 0%\n",
      "P1120_E - 0%\n",
      "P1130_B - 0%\n",
      "P1130_E - 0%\n",
      "P1140_B - 0%\n",
      "P1140_E - 0%\n",
      "P1150_B - 0%\n",
      "P1150_E - 0%\n",
      "P1160_B - 0%\n",
      "P1160_E - 0%\n",
      "P1170_B - 0%\n",
      "P1170_E - 0%\n",
      "P1180_B - 0%\n",
      "P1180_E - 0%\n",
      "P1190_B - 0%\n",
      "P1190_E - 0%\n",
      "P1100_B - 0%\n",
      "P1100_E - 0%\n",
      "P1210_B - 0%\n",
      "P1210_E - 0%\n",
      "P1220_B - 0%\n",
      "P1220_E - 0%\n",
      "P1230_B - 0%\n",
      "P1230_E - 0%\n",
      "P1240_B - 0%\n",
      "P1240_E - 0%\n",
      "P1250_B - 0%\n",
      "P1250_E - 0%\n",
      "P1260_B - 0%\n",
      "P1260_E - 0%\n",
      "P1200_B - 0%\n",
      "P1200_E - 0%\n",
      "P1600_B - 0%\n",
      "P1600_E - 0%\n",
      "P1310_B - 0%\n",
      "P1310_E - 0%\n",
      "P1320_B - 0%\n",
      "P1320_E - 0%\n",
      "P1340_B - 0%\n",
      "P1340_E - 0%\n",
      "P1350_B - 0%\n",
      "P1350_E - 0%\n",
      "P1360_B - 0%\n",
      "P1360_E - 0%\n",
      "P1370_B - 0%\n",
      "P1370_E - 0%\n",
      "P1300_B - 0%\n",
      "P1300_E - 0%\n",
      "P1410_B - 0%\n",
      "P1410_E - 0%\n",
      "P1420_B - 0%\n",
      "P1420_E - 0%\n",
      "P1430_B - 0%\n",
      "P1430_E - 0%\n",
      "P1450_B - 0%\n",
      "P1450_E - 0%\n",
      "P1400_B - 0%\n",
      "P1400_E - 0%\n",
      "P1510_B - 0%\n",
      "P1510_E - 0%\n",
      "P1520_B - 0%\n",
      "P1520_E - 0%\n",
      "P1530_B - 0%\n",
      "P1530_E - 0%\n",
      "P1540_B - 0%\n",
      "P1540_E - 0%\n",
      "P1550_B - 0%\n",
      "P1550_E - 0%\n",
      "P1500_B - 0%\n",
      "P1500_E - 0%\n",
      "P1700_B - 0%\n",
      "P1700_E - 0%\n",
      "P2110_B - 0%\n",
      "P2110_E - 0%\n",
      "P2120_B - 0%\n",
      "P2120_E - 0%\n",
      "P2100_B - 0%\n",
      "P2100_E - 0%\n",
      "P2210_B - 0%\n",
      "P2210_E - 0%\n",
      "P2220_B - 0%\n",
      "P2220_E - 0%\n",
      "P2200_B - 0%\n",
      "P2200_E - 0%\n",
      "P2310_B - 0%\n",
      "P2310_E - 0%\n",
      "P2320_B - 0%\n",
      "P2320_E - 0%\n",
      "P2330_B - 0%\n",
      "P2330_E - 0%\n",
      "P2340_B - 0%\n",
      "P2340_E - 0%\n",
      "P2350_B - 0%\n",
      "P2350_E - 0%\n",
      "P2300_B - 0%\n",
      "P2300_E - 0%\n",
      "P2410_B - 0%\n",
      "P2410_E - 0%\n",
      "P2421_B - 0%\n",
      "P2421_E - 0%\n",
      "P2430_B - 0%\n",
      "P2430_E - 0%\n",
      "P2450_B - 0%\n",
      "P2450_E - 0%\n",
      "P2460_B - 0%\n",
      "P2460_E - 0%\n",
      "P2400_B - 0%\n",
      "P2400_E - 0%\n",
      "BANKR - 0%\n"
     ]
    }
   ],
   "source": [
    "for col in df.columns:\n",
    "    pct_missing = np.mean(df[col].isnull())\n",
    "    print('{} - {}%'.format(col, round(pct_missing*100))) #Проверка пропущенных значений"
   ]
  },
  {
   "cell_type": "code",
   "execution_count": 15,
   "metadata": {},
   "outputs": [],
   "source": [
    "desc = df.describe()\n",
    "writers = pd.ExcelWriter('Describe.xlsx')\n",
    "desc.to_excel(writers,'AR')\n",
    "writers.save()"
   ]
  },
  {
   "cell_type": "code",
   "execution_count": 17,
   "metadata": {},
   "outputs": [],
   "source": [
    "cor = df.corr() #Просмотр зависимостей признаков\n",
    "writers = pd.ExcelWriter('Correlation.xlsx')\n",
    "cor.to_excel(writers,'AR')\n",
    "writers.save()"
   ]
  },
  {
   "cell_type": "code",
   "execution_count": 59,
   "metadata": {},
   "outputs": [
    {
     "data": {
      "text/plain": [
       "0    730141\n",
       "1      3130\n",
       "Name: BANKR, dtype: int64"
      ]
     },
     "execution_count": 59,
     "metadata": {},
     "output_type": "execute_result"
    }
   ],
   "source": [
    "df['BANKR'].value_counts() #Вывод кол-ва кажого класса"
   ]
  },
  {
   "cell_type": "code",
   "execution_count": 43,
   "metadata": {},
   "outputs": [
    {
     "name": "stdout",
     "output_type": "stream",
     "text": [
      "1095152 183318\n"
     ]
    }
   ],
   "source": [
    "X = df.drop(('BANKR'),axis=1)\n",
    "Y = df['BANKR']\n",
    "os = SMOTE(random_state=0) \n",
    "X_train, X_test, Y_train, Y_test = train_test_split(X,Y,test_size=0.25,random_state=11)\n",
    "X_train, Y_train = os.fit_resample(X_train, Y_train) #Добавление синтетических данных, из-за сильного превосходства одного класса над другим\n",
    "N_train, _ = X_train.shape\n",
    "N_test, _ = X_test.shape\n",
    "columns = X_train.columns\n",
    "print(N_train, N_test) #Разбивка датасета на обучающий и тестовый"
   ]
  },
  {
   "cell_type": "code",
   "execution_count": 45,
   "metadata": {},
   "outputs": [
    {
     "name": "stdout",
     "output_type": "stream",
     "text": [
      "length of oversampled data is  1095152\n"
     ]
    }
   ],
   "source": [
    "X_train1 =pd.DataFrame(data = X_train, columns = columns)\n",
    "Y_train1 =pd.DataFrame(data = Y_train, columns=['y'])\n",
    "print(\"length of oversampled data is \",len(X_train1)) #Вывод кол-ва синтетических данных"
   ]
  },
  {
   "cell_type": "code",
   "execution_count": 44,
   "metadata": {},
   "outputs": [],
   "source": [
    "sc = StandardScaler()\n",
    "X_train = sc.fit_transform(X_train)\n",
    "X_test = sc.transform(X_test) #Нормализация признаков"
   ]
  },
  {
   "cell_type": "code",
   "execution_count": null,
   "metadata": {},
   "outputs": [],
   "source": [
    "# Hyperparameter grid\n",
    "param_grid = {\n",
    "    'n_estimators': np.linspace(10, 200).astype(int),\n",
    "    'max_depth': [None] + list(np.linspace(3, 20).astype(int)),\n",
    "    'max_features': ['auto', 'sqrt', None] + list(np.arange(0.5, 1, 0.1)),\n",
    "    'max_leaf_nodes': [None] + list(np.linspace(10, 50, 500).astype(int)),\n",
    "    'min_samples_split': [2, 5, 10],\n",
    "    'bootstrap': [True, False]\n",
    "}\n",
    "\n",
    "# Estimator for use in random search\n",
    "estimator = ensemble.RandomForestClassifier(random_state = 11)\n",
    "\n",
    "# Create the random search model\n",
    "rs = RandomizedSearchCV(estimator, param_grid, n_jobs = -1, \n",
    "                        scoring = 'roc_auc', cv = 3, \n",
    "                        n_iter = 10, verbose = 1, random_state=11)\n",
    "rs.fit(X_train,Y_train) #Выявление оптимальных параметров для обучения модели случайного леса"
   ]
  },
  {
   "cell_type": "code",
   "execution_count": null,
   "metadata": {},
   "outputs": [],
   "source": [
    "model = ensemble.GradientBoostingClassifier(random_state = 11)\n",
    "parameters = {'learning_rate': sp_randFloat(),\n",
    "                  'subsample'    : sp_randFloat(),\n",
    "                  'n_estimators' : sp_randInt(10, 200),\n",
    "                  'max_depth'    : sp_randInt(4, 10) \n",
    "                 }\n",
    "    \n",
    "randm = RandomizedSearchCV(model, parameters, n_jobs = -1, \n",
    "                        scoring = 'roc_auc', cv = 3, \n",
    "                        n_iter = 10, verbose = 1, random_state=11)\n",
    "randm.fit(X_train, Y_train) #Выявление оптимальных параметров для обучения модели градиентного бустинга"
   ]
  },
  {
   "cell_type": "code",
   "execution_count": 7,
   "metadata": {},
   "outputs": [
    {
     "data": {
      "text/plain": [
       "{'learning_rate': 0.15791230667493694,\n",
       " 'max_depth': 9,\n",
       " 'n_estimators': 89,\n",
       " 'subsample': 0.8182753578641435}"
      ]
     },
     "execution_count": 7,
     "metadata": {},
     "output_type": "execute_result"
    }
   ],
   "source": [
    "randm.best_params_ #Вывод оптимальных параметров"
   ]
  },
  {
   "cell_type": "code",
   "execution_count": 34,
   "metadata": {},
   "outputs": [
    {
     "data": {
      "text/plain": [
       "{'n_estimators': 114,\n",
       " 'min_samples_split': 2,\n",
       " 'max_leaf_nodes': 44,\n",
       " 'max_features': 'auto',\n",
       " 'max_depth': 9,\n",
       " 'bootstrap': False}"
      ]
     },
     "execution_count": 34,
     "metadata": {},
     "output_type": "execute_result"
    }
   ],
   "source": [
    "rs.best_params_ #Вывод оптимальных параметров"
   ]
  },
  {
   "cell_type": "code",
   "execution_count": 46,
   "metadata": {},
   "outputs": [
    {
     "name": "stdout",
     "output_type": "stream",
     "text": [
      "0.1386739009744766 0.14342290446110037\n"
     ]
    }
   ],
   "source": [
    "rf = ensemble.RandomForestClassifier(n_estimators = 114,random_state =11,n_jobs=-1, min_samples_split = 2, max_leaf_nodes = 44, max_depth = 9, bootstrap = False)\n",
    "rf.fit(X_train, Y_train)\n",
    "err_train = np.mean(Y_train != rf.predict(X_train))\n",
    "err_test = np.mean(Y_test != rf.predict(X_test))\n",
    "print(err_train,err_test) #Обучение модели и выявление процента ошибки"
   ]
  },
  {
   "cell_type": "code",
   "execution_count": 13,
   "metadata": {},
   "outputs": [
    {
     "name": "stdout",
     "output_type": "stream",
     "text": [
      "0.014950436103846772 0.02488026271288144\n"
     ]
    }
   ],
   "source": [
    "gbt = ensemble.GradientBoostingClassifier(n_estimators=89, random_state=11, subsample = 0.818275, max_depth = 9, learning_rate = 0.157912)\n",
    "gbt.fit(X_train, Y_train)\n",
    "err_train = np.mean(Y_train != gbt.predict(X_train))\n",
    "err_test = np.mean(Y_test != gbt.predict(X_test))\n",
    "print(err_train, err_test)#Обучение модели и выявление процента ошибки"
   ]
  },
  {
   "cell_type": "code",
   "execution_count": 6,
   "metadata": {},
   "outputs": [
    {
     "ename": "NameError",
     "evalue": "name 'rf' is not defined",
     "output_type": "error",
     "traceback": [
      "\u001b[1;31m---------------------------------------------------------------------------\u001b[0m",
      "\u001b[1;31mNameError\u001b[0m                                 Traceback (most recent call last)",
      "\u001b[1;32m<ipython-input-6-4d3eaacd5fd7>\u001b[0m in \u001b[0;36m<module>\u001b[1;34m\u001b[0m\n\u001b[1;32m----> 1\u001b[1;33m \u001b[0mBank\u001b[0m \u001b[1;33m=\u001b[0m \u001b[0mrf\u001b[0m\u001b[1;33m.\u001b[0m\u001b[0mpredict\u001b[0m\u001b[1;33m(\u001b[0m\u001b[0mdf\u001b[0m\u001b[1;33m)\u001b[0m\u001b[1;33m\u001b[0m\u001b[1;33m\u001b[0m\u001b[0m\n\u001b[0m\u001b[0;32m      2\u001b[0m \u001b[0mBank\u001b[0m \u001b[1;33m=\u001b[0m \u001b[0mpd\u001b[0m\u001b[1;33m.\u001b[0m\u001b[0mDataFrame\u001b[0m\u001b[1;33m(\u001b[0m\u001b[0mdata\u001b[0m \u001b[1;33m=\u001b[0m \u001b[0mBank\u001b[0m\u001b[1;33m,\u001b[0m \u001b[0mcolumns\u001b[0m\u001b[1;33m=\u001b[0m\u001b[1;33m[\u001b[0m\u001b[1;34m'BANKR'\u001b[0m\u001b[1;33m]\u001b[0m\u001b[1;33m)\u001b[0m\u001b[1;33m\u001b[0m\u001b[1;33m\u001b[0m\u001b[0m\n\u001b[0;32m      3\u001b[0m \u001b[0mwriter\u001b[0m \u001b[1;33m=\u001b[0m \u001b[0mpd\u001b[0m\u001b[1;33m.\u001b[0m\u001b[0mExcelWriter\u001b[0m\u001b[1;33m(\u001b[0m\u001b[1;34m'f.xlsx'\u001b[0m\u001b[1;33m)\u001b[0m\u001b[1;33m\u001b[0m\u001b[1;33m\u001b[0m\u001b[0m\n\u001b[0;32m      4\u001b[0m \u001b[0mBank\u001b[0m\u001b[1;33m.\u001b[0m\u001b[0mto_excel\u001b[0m\u001b[1;33m(\u001b[0m\u001b[0mwriter\u001b[0m\u001b[1;33m,\u001b[0m\u001b[1;34m'AR'\u001b[0m\u001b[1;33m)\u001b[0m\u001b[1;33m\u001b[0m\u001b[1;33m\u001b[0m\u001b[0m\n\u001b[0;32m      5\u001b[0m \u001b[0mwriter\u001b[0m\u001b[1;33m.\u001b[0m\u001b[0msave\u001b[0m\u001b[1;33m(\u001b[0m\u001b[1;33m)\u001b[0m \u001b[1;31m#Прогнозирование данных и сохранение результатов в лист Excel\u001b[0m\u001b[1;33m\u001b[0m\u001b[1;33m\u001b[0m\u001b[0m\n",
      "\u001b[1;31mNameError\u001b[0m: name 'rf' is not defined"
     ]
    }
   ],
   "source": [
    "Bank = rf.predict(df)\n",
    "Bank = pd.DataFrame(data = Bank, columns=['BANKR'])\n",
    "writer = pd.ExcelWriter('f.xlsx')\n",
    "Bank.to_excel(writer,'AR')\n",
    "writer.save() #Прогнозирование данных и сохранение результатов в лист Excel"
   ]
  },
  {
   "cell_type": "code",
   "execution_count": 7,
   "metadata": {},
   "outputs": [
    {
     "ename": "NameError",
     "evalue": "name 'gbt' is not defined",
     "output_type": "error",
     "traceback": [
      "\u001b[1;31m---------------------------------------------------------------------------\u001b[0m",
      "\u001b[1;31mNameError\u001b[0m                                 Traceback (most recent call last)",
      "\u001b[1;32m<ipython-input-7-1374dc74293d>\u001b[0m in \u001b[0;36m<module>\u001b[1;34m\u001b[0m\n\u001b[1;32m----> 1\u001b[1;33m \u001b[0mBank1\u001b[0m \u001b[1;33m=\u001b[0m \u001b[0mgbt\u001b[0m\u001b[1;33m.\u001b[0m\u001b[0mpredict\u001b[0m\u001b[1;33m(\u001b[0m\u001b[0mdf\u001b[0m\u001b[1;33m)\u001b[0m\u001b[1;33m\u001b[0m\u001b[1;33m\u001b[0m\u001b[0m\n\u001b[0m\u001b[0;32m      2\u001b[0m \u001b[0mBank1\u001b[0m \u001b[1;33m=\u001b[0m \u001b[0mpd\u001b[0m\u001b[1;33m.\u001b[0m\u001b[0mDataFrame\u001b[0m\u001b[1;33m(\u001b[0m\u001b[0mdata\u001b[0m \u001b[1;33m=\u001b[0m \u001b[0mBank1\u001b[0m\u001b[1;33m,\u001b[0m\u001b[0mcolumns\u001b[0m\u001b[1;33m=\u001b[0m\u001b[1;33m[\u001b[0m\u001b[1;34m'BANKR'\u001b[0m\u001b[1;33m]\u001b[0m\u001b[1;33m)\u001b[0m\u001b[1;33m\u001b[0m\u001b[1;33m\u001b[0m\u001b[0m\n\u001b[0;32m      3\u001b[0m \u001b[0mwriter\u001b[0m \u001b[1;33m=\u001b[0m \u001b[0mpd\u001b[0m\u001b[1;33m.\u001b[0m\u001b[0mExcelWriter\u001b[0m\u001b[1;33m(\u001b[0m\u001b[1;34m'GBT.xlsx'\u001b[0m\u001b[1;33m)\u001b[0m\u001b[1;33m\u001b[0m\u001b[1;33m\u001b[0m\u001b[0m\n\u001b[0;32m      4\u001b[0m \u001b[0mBank1\u001b[0m\u001b[1;33m.\u001b[0m\u001b[0mto_excel\u001b[0m\u001b[1;33m(\u001b[0m\u001b[0mwriter\u001b[0m\u001b[1;33m,\u001b[0m\u001b[1;34m'AR'\u001b[0m\u001b[1;33m)\u001b[0m\u001b[1;33m\u001b[0m\u001b[1;33m\u001b[0m\u001b[0m\n\u001b[0;32m      5\u001b[0m \u001b[0mwriter\u001b[0m\u001b[1;33m.\u001b[0m\u001b[0msave\u001b[0m\u001b[1;33m(\u001b[0m\u001b[1;33m)\u001b[0m  \u001b[1;31m#Прогнозирование данных и сохранение результатов в лист Excel\u001b[0m\u001b[1;33m\u001b[0m\u001b[1;33m\u001b[0m\u001b[0m\n",
      "\u001b[1;31mNameError\u001b[0m: name 'gbt' is not defined"
     ]
    }
   ],
   "source": [
    "Bank1 = gbt.predict(df)\n",
    "Bank1 = pd.DataFrame(data = Bank1,columns=['BANKR'])\n",
    "writer = pd.ExcelWriter('GBT.xlsx')\n",
    "Bank1.to_excel(writer,'AR')\n",
    "writer.save()  #Прогнозирование данных и сохранение результатов в лист Excel"
   ]
  },
  {
   "cell_type": "code",
   "execution_count": 52,
   "metadata": {},
   "outputs": [],
   "source": [
    "Les = pd.read_excel(\"f.xlsx\", decimal = '.')\n",
    "Bust = pd.read_excel(\"GBT.xlsx\", decimal = '.')\n",
    "LesPred = Les['BANKR']\n",
    "BustPred = Bust['BANKR'] #Загрузка результатов"
   ]
  },
  {
   "cell_type": "code",
   "execution_count": 53,
   "metadata": {},
   "outputs": [
    {
     "name": "stdout",
     "output_type": "stream",
     "text": [
      "              precision    recall  f1-score   support\n",
      "\n",
      "           0       1.00      0.86      0.92    730141\n",
      "           1       0.02      0.80      0.05      3130\n",
      "\n",
      "    accuracy                           0.86    733271\n",
      "   macro avg       0.51      0.83      0.48    733271\n",
      "weighted avg       0.99      0.86      0.92    733271\n",
      "\n"
     ]
    }
   ],
   "source": [
    "print(classification_report(test,LesPred))  #Метрики оценки для случайного леса"
   ]
  },
  {
   "cell_type": "code",
   "execution_count": 54,
   "metadata": {},
   "outputs": [
    {
     "name": "stdout",
     "output_type": "stream",
     "text": [
      "              precision    recall  f1-score   support\n",
      "\n",
      "           0       1.00      0.98      0.99    730141\n",
      "           1       0.17      0.77      0.28      3130\n",
      "\n",
      "    accuracy                           0.98    733271\n",
      "   macro avg       0.59      0.88      0.64    733271\n",
      "weighted avg       1.00      0.98      0.99    733271\n",
      "\n"
     ]
    }
   ],
   "source": [
    "print(classification_report(test,BustPred)) #Метрики оценки для градиентного бустинга"
   ]
  },
  {
   "cell_type": "code",
   "execution_count": 55,
   "metadata": {},
   "outputs": [
    {
     "name": "stdout",
     "output_type": "stream",
     "text": [
      "[[718488  11653]\n",
      " [   713   2417]]\n"
     ]
    }
   ],
   "source": [
    "cfm = confusion_matrix(test,BustPred) #Вывод матрицы ошибок для градиентного бустинга (TP   FP)\n",
    "                                                                                     #(FN   TN)\n",
    "print(cfm)\n"
   ]
  },
  {
   "cell_type": "code",
   "execution_count": 56,
   "metadata": {},
   "outputs": [
    {
     "name": "stdout",
     "output_type": "stream",
     "text": [
      "[[625645 104496]\n",
      " [   638   2492]]\n"
     ]
    }
   ],
   "source": [
    "cfm1 = confusion_matrix(test,LesPred) #Вывод матрицы ошибок для случайного леса  (TP    FP)\n",
    "                                                                                #(FN   TN)\n",
    "print(cfm1)"
   ]
  },
  {
   "cell_type": "code",
   "execution_count": 1,
   "metadata": {},
   "outputs": [],
   "source": [
    "from sklearn.metrics import roc_auc_score"
   ]
  },
  {
   "cell_type": "code",
   "execution_count": 5,
   "metadata": {},
   "outputs": [
    {
     "ename": "NameError",
     "evalue": "name 'BustPred' is not defined",
     "output_type": "error",
     "traceback": [
      "\u001b[1;31m---------------------------------------------------------------------------\u001b[0m",
      "\u001b[1;31mNameError\u001b[0m                                 Traceback (most recent call last)",
      "\u001b[1;32m<ipython-input-5-76b5322a79d2>\u001b[0m in \u001b[0;36m<module>\u001b[1;34m\u001b[0m\n\u001b[1;32m----> 1\u001b[1;33m \u001b[0mprint\u001b[0m\u001b[1;33m(\u001b[0m\u001b[1;34m'LDA Auc score = '\u001b[0m\u001b[1;33m,\u001b[0m\u001b[0mroc_auc_score\u001b[0m\u001b[1;33m(\u001b[0m\u001b[0mtest\u001b[0m\u001b[1;33m,\u001b[0m\u001b[0mBustPred\u001b[0m\u001b[1;33m)\u001b[0m\u001b[1;33m)\u001b[0m\u001b[1;33m\u001b[0m\u001b[1;33m\u001b[0m\u001b[0m\n\u001b[0m\u001b[0;32m      2\u001b[0m \u001b[0mprint\u001b[0m\u001b[1;33m(\u001b[0m\u001b[1;34m'GNB Auc score = '\u001b[0m\u001b[1;33m,\u001b[0m\u001b[0mroc_auc_score\u001b[0m\u001b[1;33m(\u001b[0m\u001b[0mtest\u001b[0m\u001b[1;33m,\u001b[0m\u001b[0mLesPred\u001b[0m\u001b[1;33m)\u001b[0m\u001b[1;33m)\u001b[0m\u001b[1;33m\u001b[0m\u001b[1;33m\u001b[0m\u001b[0m\n",
      "\u001b[1;31mNameError\u001b[0m: name 'BustPred' is not defined"
     ]
    }
   ],
   "source": [
    "print('LDA Auc score = ',roc_auc_score(test,BustPred)) \n",
    "print('GNB Auc score = ',roc_auc_score(test,LesPred))"
   ]
  },
  {
   "cell_type": "code",
   "execution_count": null,
   "metadata": {},
   "outputs": [],
   "source": []
  }
 ],
 "metadata": {
  "kernelspec": {
   "display_name": "Python 3",
   "language": "python",
   "name": "python3"
  },
  "language_info": {
   "codemirror_mode": {
    "name": "ipython",
    "version": 3
   },
   "file_extension": ".py",
   "mimetype": "text/x-python",
   "name": "python",
   "nbconvert_exporter": "python",
   "pygments_lexer": "ipython3",
   "version": "3.8.3"
  }
 },
 "nbformat": 4,
 "nbformat_minor": 4
}
